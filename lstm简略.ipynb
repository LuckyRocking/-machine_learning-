{
 "cells": [
  {
   "cell_type": "code",
   "execution_count": 66,
   "metadata": {},
   "outputs": [],
   "source": [
    "#搭建Lstm模型\n",
    "import torch\n",
    "from torch import nn\n",
    "from torch.nn import functional as F\n",
    "import torchsummary"
   ]
  },
  {
   "cell_type": "code",
   "execution_count": 82,
   "metadata": {},
   "outputs": [],
   "source": [
    "class Lstmunit(nn.Module):\n",
    "    ##搭建LSTM神经元\n",
    "    def __init__(self,input_dims,last_hidden_dims=1) -> None:\n",
    "        super().__init__()\n",
    "        self.forget=nn.Linear(input_dims+last_hidden_dims,1,bias=True)\n",
    "        self.input=nn.Linear(input_dims+last_hidden_dims,1,bias=True)\n",
    "        self.update=nn.Linear(input_dims+last_hidden_dims,1,bias=True)\n",
    "        self.out=nn.Linear(input_dims+last_hidden_dims,1,bias=True)\n",
    "    \n",
    "\n",
    "    def forward(self,input,last_hidden=torch.tensor([0]),last_cell=torch.tensor([0])):\n",
    "        ft=F.sigmoid(self.forget(torch.concat([input,last_hidden],axis=0)))\n",
    "        it=F.sigmoid(self.input(torch.concat([input,last_hidden],axis=0)))\n",
    "        ut=F.tanh(self.update(torch.concat([input,last_hidden],axis=0)))\n",
    "        ot=F.sigmoid(self.out(torch.concat([input,last_hidden],axis=0)))\n",
    "        #更新细胞状态cell\n",
    "        ct=ft*last_cell+it*ut\n",
    "        ht=ot*F.tanh(ct)\n",
    "        return ht,ct"
   ]
  }
 ],
 "metadata": {
  "kernelspec": {
   "display_name": "Python 3.10.2 64-bit",
   "language": "python",
   "name": "python3"
  },
  "language_info": {
   "codemirror_mode": {
    "name": "ipython",
    "version": 3
   },
   "file_extension": ".py",
   "mimetype": "text/x-python",
   "name": "python",
   "nbconvert_exporter": "python",
   "pygments_lexer": "ipython3",
   "version": "3.10.2"
  },
  "orig_nbformat": 4,
  "vscode": {
   "interpreter": {
    "hash": "e450050b432e843bda3c41bf3272c133bfc370a7003f3e377e27f87a49ce1127"
   }
  }
 },
 "nbformat": 4,
 "nbformat_minor": 2
}
