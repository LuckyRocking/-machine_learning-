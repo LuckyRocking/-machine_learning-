{
 "cells": [
  {
   "cell_type": "code",
   "execution_count": 2,
   "metadata": {},
   "outputs": [
    {
     "name": "stderr",
     "output_type": "stream",
     "text": [
      "e:\\Python\\lib\\site-packages\\tqdm\\auto.py:21: TqdmWarning: IProgress not found. Please update jupyter and ipywidgets. See https://ipywidgets.readthedocs.io/en/stable/user_install.html\n",
      "  from .autonotebook import tqdm as notebook_tqdm\n"
     ]
    }
   ],
   "source": [
    "import numpy as np\n",
    "import torch \n",
    "import torch.nn as nn\n",
    "from torch.nn import Linear\n",
    "from torch.nn import functional as F\n",
    "import torch.optim as optim\n",
    "import matplotlib.pyplot as plt\n",
    "from transformers import BertModel"
   ]
  },
  {
   "cell_type": "code",
   "execution_count": 1,
   "metadata": {},
   "outputs": [
    {
     "ename": "NameError",
     "evalue": "name 'nn' is not defined",
     "output_type": "error",
     "traceback": [
      "\u001b[1;31m---------------------------------------------------------------------------\u001b[0m",
      "\u001b[1;31mNameError\u001b[0m                                 Traceback (most recent call last)",
      "Cell \u001b[1;32mIn [1], line 1\u001b[0m\n\u001b[1;32m----> 1\u001b[0m \u001b[39mclass\u001b[39;00m \u001b[39mScaledDotProductAttention\u001b[39;00m(nn\u001b[39m.\u001b[39mModule):\n\u001b[0;32m      3\u001b[0m     \u001b[39mdef\u001b[39;00m \u001b[39mforward\u001b[39m(\u001b[39mself\u001b[39m, query, key, value, mask\u001b[39m=\u001b[39m\u001b[39mNone\u001b[39;00m):\n\u001b[0;32m      4\u001b[0m         dk \u001b[39m=\u001b[39m query\u001b[39m.\u001b[39msize()[\u001b[39m-\u001b[39m\u001b[39m1\u001b[39m]\n",
      "\u001b[1;31mNameError\u001b[0m: name 'nn' is not defined"
     ]
    }
   ],
   "source": [
    "class ScaledDotProductAttention(nn.Module):\n",
    "\n",
    "    def forward(self, query, key, value, mask=None):\n",
    "        dk = query.size()[-1]\n",
    "        scores = query.matmul(key.transpose(-2, -1)) / math.sqrt(dk)\n",
    "        if mask is not None:\n",
    "            scores = scores.masked_fill(mask == 0, -1e9)\n",
    "        attention = F.softmax(scores, dim=-1)\n",
    "        return attention.matmul(value)\n",
    "\n",
    "\n",
    "\n",
    "\n",
    "class MultiSelfAttention(nn.Module):\n",
    "\n",
    "    def __init__(self, heads, d_model, dropout = 0.1):\n",
    "        super().__init__()\n",
    "        \n",
    "        self.d_model = d_model\n",
    "        self.d_k = d_model // heads\n",
    "        self.h = heads\n",
    "        \n",
    "        self.q_linear = nn.Linear(d_model, d_model)\n",
    "        self.v_linear = nn.Linear(d_model, d_model)\n",
    "        self.k_linear = nn.Linear(d_model, d_model)\n",
    "        \n",
    "        self.dropout = nn.Dropout(dropout)\n",
    "        self.out = nn.Linear(d_model, d_model)\n",
    "        self.attention = ScaledDotProductAttention()\n",
    "    \n",
    "    def forward(self, q, k, v, mask=None):\n",
    "        \n",
    "        bs = q.size(0) #batch\n",
    "        \n",
    "        # perform linear operation and split into N heads\n",
    "        k = self.k_linear(k).view(bs, -1, self.h, self.d_k)\n",
    "        q = self.q_linear(q).view(bs, -1, self.h, self.d_k)\n",
    "        v = self.v_linear(v).view(bs, -1, self.h, self.d_k)\n",
    "        \n",
    "        # transpose to get dimensions bs * N * sl * d_model\n",
    "        k = k.transpose(1,2)\n",
    "        q = q.transpose(1,2)\n",
    "        v = v.transpose(1,2)\n",
    "        \n",
    "        # calculate attention using function we will define next\n",
    "        scores = self.attention(q,k,v)\n",
    "        # concatenate heads and put through final linear layer\n",
    "        concat = scores.transpose(1,2).contiguous()\\\n",
    "        .view(bs, -1, self.d_model)\n",
    "        output = self.out(concat)\n",
    "    \n",
    "        return output"
   ]
  },
  {
   "cell_type": "code",
   "execution_count": 507,
   "metadata": {},
   "outputs": [
    {
     "name": "stdout",
     "output_type": "stream",
     "text": [
      "tensor(1.3401, grad_fn=<MseLossBackward0>)\n",
      "tensor(0.7923, grad_fn=<MseLossBackward0>)\n",
      "tensor(0.5373, grad_fn=<MseLossBackward0>)\n",
      "tensor(0.5281, grad_fn=<MseLossBackward0>)\n",
      "tensor(0.6439, grad_fn=<MseLossBackward0>)\n",
      "tensor(0.7411, grad_fn=<MseLossBackward0>)\n",
      "tensor(0.7541, grad_fn=<MseLossBackward0>)\n",
      "tensor(0.6975, grad_fn=<MseLossBackward0>)\n",
      "tensor(0.6142, grad_fn=<MseLossBackward0>)\n",
      "tensor(0.5436, grad_fn=<MseLossBackward0>)\n",
      "tensor(0.5095, grad_fn=<MseLossBackward0>)\n",
      "tensor(0.5156, grad_fn=<MseLossBackward0>)\n",
      "tensor(0.5476, grad_fn=<MseLossBackward0>)\n",
      "tensor(0.5824, grad_fn=<MseLossBackward0>)\n",
      "tensor(0.6006, grad_fn=<MseLossBackward0>)\n",
      "tensor(0.5952, grad_fn=<MseLossBackward0>)\n",
      "tensor(0.5713, grad_fn=<MseLossBackward0>)\n",
      "tensor(0.5411, grad_fn=<MseLossBackward0>)\n",
      "tensor(0.5172, grad_fn=<MseLossBackward0>)\n",
      "tensor(0.5074, grad_fn=<MseLossBackward0>)\n",
      "tensor(0.5122, grad_fn=<MseLossBackward0>)\n",
      "tensor(0.5258, grad_fn=<MseLossBackward0>)\n",
      "tensor(0.5392, grad_fn=<MseLossBackward0>)\n",
      "tensor(0.5453, grad_fn=<MseLossBackward0>)\n",
      "tensor(0.5417, grad_fn=<MseLossBackward0>)\n",
      "tensor(0.5308, grad_fn=<MseLossBackward0>)\n",
      "tensor(0.5183, grad_fn=<MseLossBackward0>)\n",
      "tensor(0.5095, grad_fn=<MseLossBackward0>)\n",
      "tensor(0.5073, grad_fn=<MseLossBackward0>)\n",
      "tensor(0.5112, grad_fn=<MseLossBackward0>)\n",
      "tensor(0.5176, grad_fn=<MseLossBackward0>)\n",
      "tensor(0.5225, grad_fn=<MseLossBackward0>)\n",
      "tensor(0.5232, grad_fn=<MseLossBackward0>)\n",
      "tensor(0.5198, grad_fn=<MseLossBackward0>)\n",
      "tensor(0.5142, grad_fn=<MseLossBackward0>)\n",
      "tensor(0.5093, grad_fn=<MseLossBackward0>)\n",
      "tensor(0.5072, grad_fn=<MseLossBackward0>)\n",
      "tensor(0.5083, grad_fn=<MseLossBackward0>)\n",
      "tensor(0.5111, grad_fn=<MseLossBackward0>)\n",
      "tensor(0.5137, grad_fn=<MseLossBackward0>)\n",
      "tensor(0.5144, grad_fn=<MseLossBackward0>)\n",
      "tensor(0.5131, grad_fn=<MseLossBackward0>)\n",
      "tensor(0.5105, grad_fn=<MseLossBackward0>)\n",
      "tensor(0.5082, grad_fn=<MseLossBackward0>)\n",
      "tensor(0.5072, grad_fn=<MseLossBackward0>)\n",
      "tensor(0.5078, grad_fn=<MseLossBackward0>)\n",
      "tensor(0.5091, grad_fn=<MseLossBackward0>)\n",
      "tensor(0.5103, grad_fn=<MseLossBackward0>)\n",
      "tensor(0.5105, grad_fn=<MseLossBackward0>)\n",
      "tensor(0.5097, grad_fn=<MseLossBackward0>)\n",
      "tensor(0.5084, grad_fn=<MseLossBackward0>)\n",
      "tensor(0.5074, grad_fn=<MseLossBackward0>)\n",
      "tensor(0.5072, grad_fn=<MseLossBackward0>)\n",
      "tensor(0.5077, grad_fn=<MseLossBackward0>)\n",
      "tensor(0.5084, grad_fn=<MseLossBackward0>)\n",
      "tensor(0.5088, grad_fn=<MseLossBackward0>)\n",
      "tensor(0.5086, grad_fn=<MseLossBackward0>)\n",
      "tensor(0.5080, grad_fn=<MseLossBackward0>)\n",
      "tensor(0.5075, grad_fn=<MseLossBackward0>)\n",
      "tensor(0.5072, grad_fn=<MseLossBackward0>)\n",
      "tensor(0.5073, grad_fn=<MseLossBackward0>)\n",
      "tensor(0.5077, grad_fn=<MseLossBackward0>)\n",
      "tensor(0.5079, grad_fn=<MseLossBackward0>)\n",
      "tensor(0.5079, grad_fn=<MseLossBackward0>)\n",
      "tensor(0.5077, grad_fn=<MseLossBackward0>)\n",
      "tensor(0.5074, grad_fn=<MseLossBackward0>)\n",
      "tensor(0.5072, grad_fn=<MseLossBackward0>)\n",
      "tensor(0.5073, grad_fn=<MseLossBackward0>)\n",
      "tensor(0.5074, grad_fn=<MseLossBackward0>)\n",
      "tensor(0.5076, grad_fn=<MseLossBackward0>)\n",
      "tensor(0.5076, grad_fn=<MseLossBackward0>)\n",
      "tensor(0.5075, grad_fn=<MseLossBackward0>)\n",
      "tensor(0.5073, grad_fn=<MseLossBackward0>)\n",
      "tensor(0.5072, grad_fn=<MseLossBackward0>)\n",
      "tensor(0.5072, grad_fn=<MseLossBackward0>)\n",
      "tensor(0.5073, grad_fn=<MseLossBackward0>)\n",
      "tensor(0.5074, grad_fn=<MseLossBackward0>)\n",
      "tensor(0.5074, grad_fn=<MseLossBackward0>)\n",
      "tensor(0.5073, grad_fn=<MseLossBackward0>)\n",
      "tensor(0.5072, grad_fn=<MseLossBackward0>)\n",
      "tensor(0.5072, grad_fn=<MseLossBackward0>)\n",
      "tensor(0.5072, grad_fn=<MseLossBackward0>)\n",
      "tensor(0.5073, grad_fn=<MseLossBackward0>)\n",
      "tensor(0.5073, grad_fn=<MseLossBackward0>)\n",
      "tensor(0.5073, grad_fn=<MseLossBackward0>)\n",
      "tensor(0.5073, grad_fn=<MseLossBackward0>)\n",
      "tensor(0.5072, grad_fn=<MseLossBackward0>)\n",
      "tensor(0.5072, grad_fn=<MseLossBackward0>)\n",
      "tensor(0.5072, grad_fn=<MseLossBackward0>)\n",
      "tensor(0.5073, grad_fn=<MseLossBackward0>)\n",
      "tensor(0.5073, grad_fn=<MseLossBackward0>)\n",
      "tensor(0.5072, grad_fn=<MseLossBackward0>)\n",
      "tensor(0.5072, grad_fn=<MseLossBackward0>)\n",
      "tensor(0.5072, grad_fn=<MseLossBackward0>)\n",
      "tensor(0.5072, grad_fn=<MseLossBackward0>)\n",
      "tensor(0.5072, grad_fn=<MseLossBackward0>)\n",
      "tensor(0.5072, grad_fn=<MseLossBackward0>)\n",
      "tensor(0.5072, grad_fn=<MseLossBackward0>)\n",
      "tensor(0.5072, grad_fn=<MseLossBackward0>)\n",
      "tensor(0.5072, grad_fn=<MseLossBackward0>)\n"
     ]
    }
   ],
   "source": [
    "class selfattension(nn.Module):\n",
    "    def __init__(self):\n",
    "        super(selfattension,self).__init__()\n",
    "        self.Linear1=Linear(1,5)\n",
    "        self.linear2=Linear(1,5)\n",
    "        self.linear3=Linear(1,1)\n",
    "        \n",
    "\n",
    "#前向传播\n",
    "    def forward(self,x):\n",
    "        query_matrix=self.Linear1(x)\n",
    "        key_matrix=self.linear2(x)\n",
    "        value_matrix=self.linear3(x)\n",
    "        query_key_matrix=torch.mm(query_matrix,key_matrix.T)/torch.sqrt(torch.tensor(2))\n",
    "        query_key_similaritymatrix=(torch.exp(query_key_matrix).T/torch.sum(torch.exp(query_key_matrix),axis=1)).T\n",
    "        output=torch.sum(value_matrix*query_key_similaritymatrix,axis=1)\n",
    "        return output\n",
    "\n",
    "    #制造数据\n",
    "def generate_data(x):\n",
    "    return torch.sin(x)+torch.rand(1)\n",
    "\n",
    "train_x=torch.linspace(0,5,200).reshape(-1,1)\n",
    "train_y=generate_data(train_x)\n",
    "selfattentionmodel=selfattension()\n",
    "\n",
    "#定义损失函数,优化方法\n",
    "criterion=nn.MSELoss()\n",
    "optimizer=optim.Adam(selfattentionmodel.parameters(),lr=0.1)\n",
    "\n",
    "#训练网络\n",
    "for epoch in range(100):\n",
    "    output=selfattentionmodel(train_x)\n",
    "#计算误差\n",
    "    loss=criterion(output,train_y)\n",
    "    optimizer.zero_grad()\n",
    "    loss.backward()\n",
    "    #优化参数\n",
    "    optimizer.step()\n",
    "    print(loss)\n"
   ]
  },
  {
   "cell_type": "code",
   "execution_count": 508,
   "metadata": {},
   "outputs": [
    {
     "data": {
      "text/plain": [
       "[<matplotlib.lines.Line2D at 0x23407241d20>]"
      ]
     },
     "execution_count": 508,
     "metadata": {},
     "output_type": "execute_result"
    },
    {
     "data": {
      "image/png": "[encoded data removed]",
      "text/plain": [
       "<Figure size 640x480 with 1 Axes>"
      ]
     },
     "metadata": {},
     "output_type": "display_data"
    }
   ],
   "source": [
    "y_pre=selfattentionmodel(train_x)\n",
    "plt.plot(train_x,y_pre.detach())"
   ]
  },
  {
   "cell_type": "code",
   "execution_count": 509,
   "metadata": {},
   "outputs": [
    {
     "data": {
      "text/plain": [
       "[<matplotlib.lines.Line2D at 0x234072cda20>]"
      ]
     },
     "execution_count": 509,
     "metadata": {},
     "output_type": "execute_result"
    },
    {
     "data": {
      "image/png": "[encoded data removed]",
      "text/plain": [
       "<Figure size 640x480 with 1 Axes>"
      ]
     },
     "metadata": {},
     "output_type": "display_data"
    }
   ],
   "source": [
    "plt.plot(train_x,train_y)"
   ]
  }
 ],
 "metadata": {
  "kernelspec": {
   "display_name": "Python 3.10.2 64-bit",
   "language": "python",
   "name": "python3"
  },
  "language_info": {
   "codemirror_mode": {
    "name": "ipython",
    "version": 3
   },
   "file_extension": ".py",
   "mimetype": "text/x-python",
   "name": "python",
   "nbconvert_exporter": "python",
   "pygments_lexer": "ipython3",
   "version": "3.10.2"
  },
  "orig_nbformat": 4,
  "vscode": {
   "interpreter": {
    "hash": "e450050b432e843bda3c41bf3272c133bfc370a7003f3e377e27f87a49ce1127"
   }
  }
 },
 "nbformat": 4,
 "nbformat_minor": 2
}
