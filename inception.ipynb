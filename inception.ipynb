{
 "cells": [
  {
   "cell_type": "code",
   "execution_count": 260,
   "metadata": {},
   "outputs": [],
   "source": [
    "#inception模型\n",
    "import torch\n",
    "import torch.nn.functional as F\n",
    "from torch import nn\n",
    "from torch.nn import Conv2d,MaxPool2d,Flatten,Linear\n",
    "import matplotlib.pyplot as plt\n",
    "import warnings\n",
    "from typing import Callable, Any, Optional, Tuple, List\n",
    "from keras.datasets import mnist\n",
    "import torch.optim as optim\n",
    "from keras.utils import to_categorical"
   ]
  },
  {
   "cell_type": "code",
   "execution_count": 199,
   "metadata": {},
   "outputs": [],
   "source": [
    "(train_data,test_data)=mnist.load_data()"
   ]
  },
  {
   "cell_type": "code",
   "execution_count": 171,
   "metadata": {},
   "outputs": [],
   "source": [
    "\n",
    "class BasicConv2d(nn.Module):\n",
    "    def __init__(self, in_channels: int, out_channels: int,**kwargs:Any) -> None:\n",
    "        super().__init__()\n",
    "        self.conv = nn.Conv2d(in_channels, out_channels,**kwargs,bias=True)\n",
    "        self.bn = nn.BatchNorm2d(out_channels, eps=0.001)\n",
    "\n",
    "    def forward(self, x):\n",
    "        #x为tensor 输出也为tensor\n",
    "        x1 = self.conv(x)\n",
    "        x2 = self.bn(x1)\n",
    "        return F.relu(x2, inplace=True)\n"
   ]
  },
  {
   "cell_type": "code",
   "execution_count": 272,
   "metadata": {},
   "outputs": [],
   "source": [
    "class Inception(nn.Module):\n",
    "    def __init__(self, in_channels: int, pool_features: int, conv_block: Optional[Callable[..., nn.Module]] = None):\n",
    "        super().__init__()\n",
    "        if conv_block is None:\n",
    "            conv_block = BasicConv2d\n",
    "        self.branch1x1 = conv_block(in_channels, 64, kernel_size=1)\n",
    "\n",
    "        self.branch5x5_1 = conv_block(in_channels, 48, kernel_size=1)\n",
    "        self.branch5x5_2 = conv_block(48, 64, kernel_size=5, padding=2)\n",
    "    \n",
    "        self.branch3x3dbl_1 = conv_block(in_channels, 64, kernel_size=1)\n",
    "        self.branch3x3dbl_2 = conv_block(64, 96, kernel_size=3, padding=1)\n",
    "        self.branch3x3dbl_3 = conv_block(96, 96, kernel_size=3, padding=1)        \n",
    "        self.branch_pool = conv_block(in_channels, pool_features, kernel_size=1)\n",
    "        self.flatten1=Flatten()\n",
    "        self.Dense1=Linear(225792,10)\n",
    "    ###############\n",
    "    #前向传播\n",
    "    def forward(self,x):\n",
    "       branch1x1 = self.branch1x1(x)\n",
    "       branch5x5 = self.branch5x5_1(x)\n",
    "       branch5x5 = self.branch5x5_2(branch5x5)\n",
    "       branch3x3dbl = self.branch3x3dbl_1(x)\n",
    "       branch3x3dbl = self.branch3x3dbl_2(branch3x3dbl)\n",
    "       branch3x3dbl = self.branch3x3dbl_3(branch3x3dbl)\n",
    "       branch_pool = F.avg_pool2d(x, kernel_size=3, stride=1, padding=1)\n",
    "       branch_pool = self.branch_pool(branch_pool)\n",
    "       hidden = torch.concat([branch1x1, branch5x5, branch3x3dbl, branch_pool],axis=1)\n",
    "       hidden_output=self.flatten1(hidden)\n",
    "       output=F.softmax(self.Dense1(hidden_output))\n",
    "       \n",
    "       return output\n",
    "\n",
    "\n",
    "#训练模型\n",
    "inception=Inception(in_channels=1,pool_features=64)\n",
    "criterion=nn.CrossEntropyLoss()\n",
    "optimizer=optim.Adam(inception.parameters(),lr=0.1,betas=(0.9,0.98))\n",
    "train_x,train_y = train_data\n",
    "train_x=torch.tensor(train_x,dtype=torch.float32).reshape(60000,1,28,28)\n",
    "train_y=torch.tensor(to_categorical(train_y))\n",
    "for epoches in range(1):\n",
    "    for samples_index in range(len(train_x)):\n",
    "        y_pre=inception(train_x[samples_index].reshape(1,1,28,28))\n",
    "        loss=criterion(y_pre[0],train_y[samples_index])\n",
    "        optimizer.zero_grad()\n",
    "        loss.backward()\n",
    "        optimizer.step()\n"
   ]
  }
 ],
 "metadata": {
  "kernelspec": {
   "display_name": "Python 3.10.2 64-bit",
   "language": "python",
   "name": "python3"
  },
  "language_info": {
   "codemirror_mode": {
    "name": "ipython",
    "version": 3
   },
   "file_extension": ".py",
   "mimetype": "text/x-python",
   "name": "python",
   "nbconvert_exporter": "python",
   "pygments_lexer": "ipython3",
   "version": "3.10.2"
  },
  "orig_nbformat": 4,
  "vscode": {
   "interpreter": {
    "hash": "e450050b432e843bda3c41bf3272c133bfc370a7003f3e377e27f87a49ce1127"
   }
  }
 },
 "nbformat": 4,
 "nbformat_minor": 2
}
